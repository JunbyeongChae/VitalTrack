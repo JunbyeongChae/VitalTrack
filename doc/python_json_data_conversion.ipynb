{
 "cells": [
  {
   "cell_type": "code",
   "execution_count": 1,
   "metadata": {},
   "outputs": [
    {
     "name": "stdout",
     "output_type": "stream",
     "text": [
      "Collecting mysql-connector-python\n",
      "  Downloading mysql_connector_python-9.2.0-cp311-cp311-win_amd64.whl.metadata (6.2 kB)\n",
      "Downloading mysql_connector_python-9.2.0-cp311-cp311-win_amd64.whl (16.1 MB)\n",
      "   ---------------------------------------- 0.0/16.1 MB ? eta -:--:--\n",
      "   ----------------------- ---------------- 9.4/16.1 MB 97.6 MB/s eta 0:00:01\n",
      "   ---------------------------------------- 16.1/16.1 MB 38.9 MB/s eta 0:00:00\n",
      "Installing collected packages: mysql-connector-python\n",
      "Successfully installed mysql-connector-python-9.2.0\n",
      "Note: you may need to restart the kernel to use updated packages.\n"
     ]
    }
   ],
   "source": [
    "pip install mysql-connector-python"
   ]
  },
  {
   "cell_type": "code",
   "execution_count": null,
   "metadata": {},
   "outputs": [
    {
     "name": "stdout",
     "output_type": "stream",
     "text": [
      "Note: you may need to restart the kernel to use updated packages.\n"
     ]
    },
    {
     "name": "stderr",
     "output_type": "stream",
     "text": [
      "ERROR: Could not find a version that satisfies the requirement json (from versions: none)\n",
      "ERROR: No matching distribution found for json\n"
     ]
    }
   ],
   "source": [
    "pip install json"
   ]
  },
  {
   "cell_type": "code",
   "execution_count": 4,
   "metadata": {},
   "outputs": [
    {
     "name": "stdout",
     "output_type": "stream",
     "text": [
      "Data successfully loaded into workoutTypes.\n"
     ]
    }
   ],
   "source": [
    "import json\n",
    "import mysql.connector\n",
    "\n",
    "# Database connection\n",
    "connection = mysql.connector.connect(\n",
    "    host=\"localhost\",\n",
    "    user=\"root\",\n",
    "    password=\"abcd1234\",\n",
    "    database=\"vitaltrack\"\n",
    ")\n",
    "cursor = connection.cursor()\n",
    "\n",
    "# Load JSON data from file\n",
    "json_file_path = \"C:/project/final_project/front_end/public/workoutTypes.json\"\n",
    "with open(json_file_path, \"rt\", encoding='UTF8') as file:\n",
    "    json_data = json.load(file)\n",
    "\n",
    "# Iterate through JSON objects and insert data into workoutTypes\n",
    "for record in json_data:\n",
    "    workout_id = record[\"id\"]\n",
    "    workout_name = record[\"name\"]\n",
    "    met_value = record[\"met\"]\n",
    "\n",
    "    query = \"\"\"\n",
    "    INSERT INTO workouttypes (workoutId, workoutName, metValue)\n",
    "    VALUES (%s, %s, %s)\n",
    "    \"\"\"\n",
    "    cursor.execute(query, (workout_id, workout_name, met_value))\n",
    "\n",
    "# Commit and close connection\n",
    "connection.commit()\n",
    "cursor.close()\n",
    "connection.close()\n",
    "\n",
    "print(\"Data successfully loaded into workoutTypes.\")"
   ]
  }
 ],
 "metadata": {
  "kernelspec": {
   "display_name": "Python 3",
   "language": "python",
   "name": "python3"
  },
  "language_info": {
   "codemirror_mode": {
    "name": "ipython",
    "version": 3
   },
   "file_extension": ".py",
   "mimetype": "text/x-python",
   "name": "python",
   "nbconvert_exporter": "python",
   "pygments_lexer": "ipython3",
   "version": "3.11.9"
  }
 },
 "nbformat": 4,
 "nbformat_minor": 2
}
